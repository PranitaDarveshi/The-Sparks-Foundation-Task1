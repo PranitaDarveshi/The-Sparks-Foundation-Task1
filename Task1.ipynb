{
  "nbformat": 4,
  "nbformat_minor": 0,
  "metadata": {
    "colab": {
      "name": "Task1.ipynb",
      "provenance": [],
      "collapsed_sections": []
    },
    "kernelspec": {
      "name": "python3",
      "display_name": "Python 3"
    }
  },
  "cells": [
    {
      "cell_type": "markdown",
      "metadata": {
        "id": "GXnQ74wWZ3EE"
      },
      "source": [
        "## **TASK 1** "
      ]
    },
    {
      "cell_type": "markdown",
      "metadata": {
        "id": "bsctYPJZbAG_"
      },
      "source": [
        "# **Prediction Using Supervised Machine Learning**"
      ]
    },
    {
      "cell_type": "code",
      "metadata": {
        "id": "DevVEJo935vE"
      },
      "source": [
        "#Importing Libraries\r\n",
        "\r\n",
        "import pandas as pd\r\n",
        "import numpy as np\r\n",
        "import matplotlib.pyplot as plt\r\n",
        "from sklearn.linear_model import LinearRegression\r\n",
        "from sklearn.metrics import r2_score"
      ],
      "execution_count": 5,
      "outputs": []
    },
    {
      "cell_type": "code",
      "metadata": {
        "colab": {
          "base_uri": "https://localhost:8080/",
          "height": 195
        },
        "id": "GLbDaHAa4Wlb",
        "outputId": "cd307531-8caf-4b5a-a538-d09f15838e2b"
      },
      "source": [
        "#Reading Data\r\n",
        "\r\n",
        "data = pd.read_csv(\"http://bit.ly/w-data\")\r\n",
        "data.head(5)"
      ],
      "execution_count": 6,
      "outputs": [
        {
          "output_type": "execute_result",
          "data": {
            "text/html": [
              "<div>\n",
              "<style scoped>\n",
              "    .dataframe tbody tr th:only-of-type {\n",
              "        vertical-align: middle;\n",
              "    }\n",
              "\n",
              "    .dataframe tbody tr th {\n",
              "        vertical-align: top;\n",
              "    }\n",
              "\n",
              "    .dataframe thead th {\n",
              "        text-align: right;\n",
              "    }\n",
              "</style>\n",
              "<table border=\"1\" class=\"dataframe\">\n",
              "  <thead>\n",
              "    <tr style=\"text-align: right;\">\n",
              "      <th></th>\n",
              "      <th>Hours</th>\n",
              "      <th>Scores</th>\n",
              "    </tr>\n",
              "  </thead>\n",
              "  <tbody>\n",
              "    <tr>\n",
              "      <th>0</th>\n",
              "      <td>2.5</td>\n",
              "      <td>21</td>\n",
              "    </tr>\n",
              "    <tr>\n",
              "      <th>1</th>\n",
              "      <td>5.1</td>\n",
              "      <td>47</td>\n",
              "    </tr>\n",
              "    <tr>\n",
              "      <th>2</th>\n",
              "      <td>3.2</td>\n",
              "      <td>27</td>\n",
              "    </tr>\n",
              "    <tr>\n",
              "      <th>3</th>\n",
              "      <td>8.5</td>\n",
              "      <td>75</td>\n",
              "    </tr>\n",
              "    <tr>\n",
              "      <th>4</th>\n",
              "      <td>3.5</td>\n",
              "      <td>30</td>\n",
              "    </tr>\n",
              "  </tbody>\n",
              "</table>\n",
              "</div>"
            ],
            "text/plain": [
              "   Hours  Scores\n",
              "0    2.5      21\n",
              "1    5.1      47\n",
              "2    3.2      27\n",
              "3    8.5      75\n",
              "4    3.5      30"
            ]
          },
          "metadata": {
            "tags": []
          },
          "execution_count": 6
        }
      ]
    },
    {
      "cell_type": "code",
      "metadata": {
        "colab": {
          "base_uri": "https://localhost:8080/",
          "height": 459
        },
        "id": "htxSSzSQ4n0N",
        "outputId": "9206cfda-7dbc-455e-ef5c-a2c8942313d5"
      },
      "source": [
        "#Plotting Distribution of data\r\n",
        "\r\n",
        "print(data.shape,'Shape of the Dataframe')\r\n",
        "plt.figure(figsize=(7,7), facecolor='lightgreen')\r\n",
        "plt.scatter(data.Hours,data.Scores)\r\n",
        "plt.xlabel(\"Hours\")\r\n",
        "plt.ylabel(\"Scores\")\r\n",
        "plt.show()"
      ],
      "execution_count": 7,
      "outputs": [
        {
          "output_type": "stream",
          "text": [
            "(25, 2) Shape of the Dataframe\n"
          ],
          "name": "stdout"
        },
        {
          "output_type": "display_data",
          "data": {
            "image/png": "[encoded data removed]",
            "text/plain": [
              "<Figure size 504x504 with 1 Axes>"
            ]
          },
          "metadata": {
            "tags": []
          }
        }
      ]
    },
    {
      "cell_type": "code",
      "metadata": {
        "id": "SyPzvRrd7a-i"
      },
      "source": [
        "#Fitting model\r\n",
        "\r\n",
        "lm = LinearRegression()\r\n",
        "x = data[\"Hours\"].values.reshape(-1,1)\r\n",
        "y = data[\"Scores\"].values.reshape(-1,1)\r\n",
        " \r\n",
        "reg = lm.fit(x,y)"
      ],
      "execution_count": 8,
      "outputs": []
    },
    {
      "cell_type": "code",
      "metadata": {
        "colab": {
          "base_uri": "https://localhost:8080/"
        },
        "id": "_lpMe7MR9Pfa",
        "outputId": "fdcaf3a2-a1ec-4959-fb43-f980286d4bc5"
      },
      "source": [
        "reg.coef_"
      ],
      "execution_count": 9,
      "outputs": [
        {
          "output_type": "execute_result",
          "data": {
            "text/plain": [
              "array([[9.77580339]])"
            ]
          },
          "metadata": {
            "tags": []
          },
          "execution_count": 9
        }
      ]
    },
    {
      "cell_type": "code",
      "metadata": {
        "colab": {
          "base_uri": "https://localhost:8080/"
        },
        "id": "0vCVlFAw-cTx",
        "outputId": "b6b7c59f-4430-4917-e780-e084872255b0"
      },
      "source": [
        "reg.intercept_"
      ],
      "execution_count": 10,
      "outputs": [
        {
          "output_type": "execute_result",
          "data": {
            "text/plain": [
              "array([2.48367341])"
            ]
          },
          "metadata": {
            "tags": []
          },
          "execution_count": 10
        }
      ]
    },
    {
      "cell_type": "code",
      "metadata": {
        "colab": {
          "base_uri": "https://localhost:8080/",
          "height": 442
        },
        "id": "y9h9fEua-gxF",
        "outputId": "815bb746-0830-4ae7-bbb2-c51e8b7114c7"
      },
      "source": [
        "#Plotting Regression Line\r\n",
        "\r\n",
        "plt.figure(figsize=(7,7), facecolor='lightgreen')\r\n",
        "plt.scatter(data.Hours,data.Scores, color='black')\r\n",
        "plt.plot(data.Hours, data.Hours*reg.coef_[0]+reg.intercept_, color='blue')\r\n",
        "plt.xlabel(\"Hours\")\r\n",
        "plt.ylabel(\"Scores\")\r\n",
        "plt.show()"
      ],
      "execution_count": 11,
      "outputs": [
        {
          "output_type": "display_data",
          "data": {
            "image/png": "[encoded data removed]",
            "text/plain": [
              "<Figure size 504x504 with 1 Axes>"
            ]
          },
          "metadata": {
            "tags": []
          }
        }
      ]
    },
    {
      "cell_type": "code",
      "metadata": {
        "id": "QHgJC0cC_zel"
      },
      "source": [
        "#Makig Prediction\r\n",
        "Predicted_Scores = reg.predict(data['Hours'].values.reshape(-1,1)).flatten().tolist()"
      ],
      "execution_count": 12,
      "outputs": []
    },
    {
      "cell_type": "code",
      "metadata": {
        "colab": {
          "base_uri": "https://localhost:8080/"
        },
        "id": "JJvMJNZgAbLJ",
        "outputId": "683ccfed-93a5-4c9a-d942-bb2a889a3398"
      },
      "source": [
        "Predicted_Scores"
      ],
      "execution_count": 13,
      "outputs": [
        {
          "output_type": "execute_result",
          "data": {
            "text/plain": [
              "[26.92318188234188,\n",
              " 52.34027069838929,\n",
              " 33.76624425589311,\n",
              " 85.57800222706669,\n",
              " 36.698985273129345,\n",
              " 17.147378491554413,\n",
              " 92.42106460061791,\n",
              " 56.250592054704285,\n",
              " 83.62284154890921,\n",
              " 28.878342560499377,\n",
              " 77.75735951443671,\n",
              " 60.16091341101927,\n",
              " 46.47478866391682,\n",
              " 34.743824594971855,\n",
              " 13.237057135239425,\n",
              " 89.48832358338169,\n",
              " 26.92318188234188,\n",
              " 21.057699847869397,\n",
              " 62.11607408917676,\n",
              " 74.82461849720048,\n",
              " 28.878342560499377,\n",
              " 49.40752968115306,\n",
              " 39.631726290365584,\n",
              " 69.93671680180674,\n",
              " 78.73493985351546]"
            ]
          },
          "metadata": {
            "tags": []
          },
          "execution_count": 13
        }
      ]
    },
    {
      "cell_type": "markdown",
      "metadata": {
        "id": "RleU8nejja79"
      },
      "source": [
        "#What will be predicted score if a student studies for 9.25 hrs/ day?"
      ]
    },
    {
      "cell_type": "code",
      "metadata": {
        "colab": {
          "base_uri": "https://localhost:8080/"
        },
        "id": "ADfZcoq5eTzZ",
        "outputId": "8e85515f-881d-46b3-9f43-044edbba8d22"
      },
      "source": [
        "hours = 9.25\r\n",
        "own_pred = reg.predict(np.array(hours).reshape(1,-1))\r\n",
        "print(\"No of Hours = {}\".format(hours))\r\n",
        "print(\"Predicted Score = {}\".format(own_pred[0]))"
      ],
      "execution_count": 14,
      "outputs": [
        {
          "output_type": "stream",
          "text": [
            "No of Hours = 9.25\n",
            "Predicted Score = [92.90985477]\n"
          ],
          "name": "stdout"
        }
      ]
    },
    {
      "cell_type": "markdown",
      "metadata": {
        "id": "hAdmgSUTc4RU"
      },
      "source": [
        "# Evaluating the model\r\n"
      ]
    },
    {
      "cell_type": "code",
      "metadata": {
        "colab": {
          "base_uri": "https://localhost:8080/"
        },
        "id": "vyaxEZmAAhid",
        "outputId": "92af8362-d1b1-42a7-80a3-55db820e6724"
      },
      "source": [
        "r2_score(data['Scores'],Predicted_Scores)"
      ],
      "execution_count": null,
      "outputs": [
        {
          "output_type": "execute_result",
          "data": {
            "text/plain": [
              "0.9529481969048356"
            ]
          },
          "metadata": {
            "tags": []
          },
          "execution_count": 70
        }
      ]
    }
  ]
}